{
 "cells": [
  {
   "cell_type": "markdown",
   "metadata": {},
   "source": [
    "# Abigail Kahler\n",
    "## Homework 1"
   ]
  },
  {
   "cell_type": "code",
   "execution_count": 1,
   "metadata": {},
   "outputs": [],
   "source": [
    "import pandas as pd\n",
    "import numpy as np\n",
    "import os as os\n",
    "import matplotlib.pyplot as plt\n",
    "from sklearn.linear_model import LinearRegression"
   ]
  },
  {
   "cell_type": "markdown",
   "metadata": {},
   "source": [
    "### Download Gauges II USGS streamgage dataset for mapping\n",
    "#### https://water.usgs.gov/GIS/metadata/usgswrd/XML/gagesII_Sept2011.xml "
   ]
  },
  {
   "cell_type": "markdown",
   "metadata": {},
   "source": [
    "### Functions for generating forecast"
   ]
  },
  {
   "cell_type": "code",
   "execution_count": 2,
   "metadata": {},
   "outputs": [],
   "source": [
    "def single_forecast(model, x):\n",
    "    \"\"\"Function performing the forecast calculation, where\n",
    "        model = model used to generate prediction\n",
    "            (must be a log to log scale autoregression)\n",
    "        x = starting value of streamflow, can be integer or float\n",
    "            (input must be in natural log scale!)\n",
    "\n",
    "        returns: a prediction\n",
    "            (note the prediction is returned in natural log scale)\n",
    "            (however, the result is printed in nonlog scale)\n",
    "    \"\"\"\n",
    "    # makes a prediction (in log space)\n",
    "    prediction = (model.intercept_ + model.coef_ * x)\n",
    "    # prints a prediction (in arithmetic space)\n",
    "    print('forecast value', np.exp(prediction).round(2))\n",
    "    # returns prediction (in log space)\n",
    "    return prediction\n"
   ]
  },
  {
   "cell_type": "markdown",
   "metadata": {},
   "source": [
    "### Access streamflow data directly from USGS website and convert to dataframe"
   ]
  },
  {
   "cell_type": "code",
   "execution_count": 3,
   "metadata": {},
   "outputs": [],
   "source": [
    "# Input start and end dates\n",
    "site = '09506000'\n",
    "start = '1990-01-01'\n",
    "# Last date available for 16 week forecast\n",
    "end = '2020-12-07'\n",
    "\n",
    "url = \"https://waterdata.usgs.gov/nwis/dv?cb_00060=on&format=rdb&site_no=\" + \\\n",
    "      site + \"&referred_module=sw&period=&begin_date=\" + start + \\\n",
    "      \"&end_date=\" + end\n",
    "data = pd.read_table(url, skiprows=30, names=['agency_cd', 'site_no',\n",
    "                                              'datetime', 'flow', 'code'],\n",
    "                     parse_dates=['datetime'])\n",
    "\n",
    "data['year'] = pd.DatetimeIndex(data['datetime']).year\n",
    "data['month'] = pd.DatetimeIndex(data['datetime']).month\n",
    "data['day'] = pd.DatetimeIndex(data['datetime']).dayofweek\n",
    "data['dayofweek'] = pd.DatetimeIndex(data['datetime']).dayofweek\n",
    "\n",
    "# Aggregate flow values to weekly\n",
    "flow_weekly = data.resample(\"W\", on='datetime').mean()\n",
    "\n",
    "# Set flow_weekly to natural log\n",
    "flow_weekly_log = np.log(flow_weekly)\n",
    "flow_weekly_log['flow_tm1'] = flow_weekly_log['flow'].shift(1)"
   ]
  },
  {
   "cell_type": "markdown",
   "metadata": {},
   "source": [
    "### Select years for training and fit the model"
   ]
  },
  {
   "cell_type": "code",
   "execution_count": 4,
   "metadata": {},
   "outputs": [
    {
     "name": "stdout",
     "output_type": "stream",
     "text": [
      "coefficient of determination: 0.87\n"
     ]
    }
   ],
   "source": [
    "train = flow_weekly_log['2017-01-01':'2019-01-01'][['flow', 'flow_tm1']]\n",
    "model = LinearRegression()\n",
    "x = train['flow_tm1'].values.reshape(-1, 1)\n",
    "y = train['flow'].values\n",
    "model.fit(x, y)\n",
    "\n",
    "r_sq = model.score(x, y)\n",
    "print('coefficient of determination:', np.round(r_sq, 2))"
   ]
  },
  {
   "cell_type": "markdown",
   "metadata": {},
   "source": [
    "### Generating AR model for one and two week forecast"
   ]
  },
  {
   "cell_type": "code",
   "execution_count": 5,
   "metadata": {},
   "outputs": [
    {
     "name": "stdout",
     "output_type": "stream",
     "text": [
      "one week\n",
      "forecast value [184.33]\n",
      "two week\n",
      "forecast value [226.7]\n"
     ]
    }
   ],
   "source": [
    "# Starting value\n",
    "start_val = flow_weekly.flow[-3]\n",
    "\n",
    "# starting value in natural log (needed for regression)\n",
    "start_val_ln = np.log(start_val)\n",
    "\n",
    "# create two week forecast (saved in natural log)\n",
    "adjust = 1.05\n",
    "print('one week')\n",
    "first_forecast = single_forecast(model, start_val_ln*adjust)\n",
    "print('two week')\n",
    "second_forecast = single_forecast(model, first_forecast*adjust)\n"
   ]
  },
  {
   "cell_type": "markdown",
   "metadata": {},
   "source": [
    "### Generating 16 week forecast by setting a unique scaling factor for each four week increment"
   ]
  },
  {
   "cell_type": "code",
   "execution_count": 6,
   "metadata": {
    "scrolled": true
   },
   "outputs": [
    {
     "name": "stdout",
     "output_type": "stream",
     "text": [
      "week 1\n",
      "forecast value [179.]\n",
      "week 2\n",
      "forecast value [174.3]\n",
      "week 3\n",
      "forecast value [170.15]\n",
      "week 4\n",
      "forecast value [166.48]\n",
      "week 5\n",
      "forecast value [170.97]\n",
      "week 6\n",
      "forecast value [175.17]\n",
      "week 7\n",
      "forecast value [179.11]\n",
      "week 8\n",
      "forecast value [182.8]\n",
      "week 9\n",
      "forecast value [204.66]\n",
      "week 10\n",
      "forecast value [227.41]\n",
      "week 11\n",
      "forecast value [250.92]\n",
      "week 12\n",
      "forecast value [275.03]\n",
      "week 13\n",
      "forecast value [284.76]\n",
      "week 14\n",
      "forecast value [294.04]\n",
      "week 15\n",
      "forecast value [302.89]\n",
      "week 16\n",
      "forecast value [311.31]\n"
     ]
    }
   ],
   "source": [
    "adjust = 1.0\n",
    "sixteen_week_forecast = np.zeros(4)\n",
    "for i in range(4):\n",
    "    print('week',i+1)\n",
    "    sixteen_week_forecast[i] = single_forecast(model, first_forecast * adjust)\n",
    "    first_forecast = sixteen_week_forecast[i]\n",
    "adjust = 1.01\n",
    "sixteen_week_forecast2 = np.zeros(4)\n",
    "for i in range(4):\n",
    "    print('week',i+5)\n",
    "    sixteen_week_forecast2[i] = single_forecast(model, first_forecast * adjust)\n",
    "    first_forecast = sixteen_week_forecast2[i]\n",
    "adjust = 1.03\n",
    "sixteen_week_forecast3 = np.zeros(4)\n",
    "for i in range(4):\n",
    "    print('week',i+9)\n",
    "    sixteen_week_forecast3[i] = single_forecast(model, first_forecast * adjust)\n",
    "    first_forecast = sixteen_week_forecast3[i]\n",
    "adjust = 1.02\n",
    "sixteen_week_forecast4 = np.zeros(4)\n",
    "for i in range(4):\n",
    "    print('week',i+13)\n",
    "    sixteen_week_forecast4[i] = single_forecast(model, first_forecast * adjust)\n",
    "    first_forecast = sixteen_week_forecast4[i]"
   ]
  },
  {
   "cell_type": "code",
   "execution_count": null,
   "metadata": {},
   "outputs": [],
   "source": []
  }
 ],
 "metadata": {
  "kernelspec": {
   "display_name": "Python 3",
   "language": "python",
   "name": "python3"
  },
  "language_info": {
   "codemirror_mode": {
    "name": "ipython",
    "version": 3
   },
   "file_extension": ".py",
   "mimetype": "text/x-python",
   "name": "python",
   "nbconvert_exporter": "python",
   "pygments_lexer": "ipython3",
   "version": "3.8.5"
  }
 },
 "nbformat": 4,
 "nbformat_minor": 4
}
